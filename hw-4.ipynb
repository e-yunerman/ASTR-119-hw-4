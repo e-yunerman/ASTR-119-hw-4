{
 "cells": [
  {
   "cell_type": "code",
   "execution_count": null,
   "metadata": {},
   "outputs": [],
   "source": [
    "% matplotlib inline\n",
    "import numpy as np\n",
    "import matplotlib.pyplot as plt"
   ]
  },
  {
   "cell_type": "code",
   "execution_count": null,
   "metadata": {},
   "outputs": [],
   "source": [
    "#pretty plot stuff\n",
    "#I use this to make changes to my plot\n",
    "plt.rcParams['figure.figsize'] = (8,6.5)           # changes my figure size with length 8 and width 6.5\n",
    "plt.rcParams['legend.frameon'] = True              # if True, legend will have a border\n",
    "plt.rcParams['legend.fontsize'] = 12               # legend fontsize is 12\n",
    "plt.rcParams['legend.borderpad'] = 0.5             # width of the border of the legend\n",
    "plt.rcParams[\"legend.framealpha\"] = 0.8            # changes how transparant the legend is.\n",
    "plt.rcParams['font.family'] = 'STIXGeneral'        # sets font\n",
    "plt.rcParams['font.size'] = 20                     #sets general font size"
   ]
  },
  {
   "cell_type": "markdown",
   "metadata": {},
   "source": [
    "# Integrate the function f(x) = e^-2x * cos(10x)\n",
    "Use the trapezoid, Simpson's method, and Romberg integration.\n",
    "Integrate over the range [0,pi]"
   ]
  },
  {
   "cell_type": "code",
   "execution_count": null,
   "metadata": {},
   "outputs": [],
   "source": [
    "x = np.linspace(0, np.pi, 1000)\n",
    "\n",
    "#define the actual function we want to get the integral of\n",
    "def func(x):\n",
    "    a = -2\n",
    "    b = 10\n",
    "    return np.exp(a*x) * np.cos(b*x)\n",
    "\n",
    "#integral solution from Wolfram Alpha\n",
    "def func_integral(x):\n",
    "    a = -2\n",
    "    b = 10\n",
    "    return (-1/52) * np.exp(a*x) * (np.cos(b*x) - 5*np.sin(b*x))\n",
    "\n",
    "plt.plot(x, func(x))\n",
    "plt.plot(x, func_integral(x))\n",
    "plt.axhline(0, color = 'black', ls = '--', lw = 0.8)\n",
    "plt.grid()"
   ]
  },
  {
   "cell_type": "markdown",
   "metadata": {},
   "source": [
    "# Trapezoid Method"
   ]
  },
  {
   "cell_type": "code",
   "execution_count": null,
   "metadata": {},
   "outputs": [],
   "source": [
    "#define the core of the trapezoid method\n",
    "def trapezoid_core(f, x, h):\n",
    "    return 0.5 * h * (f(x+h) + f(x)) #area of the trapezoid where h is like dx and f(x+h) is y2 and f(x) is y1\n",
    "\n",
    "#define a wrapper function to perform the trapezoid method\n",
    "def trapezoid_method(f, a, b, N):\n",
    "    # f == function to integrate\n",
    "    # a == lower limit of integration\n",
    "    # b == upper limit of integration\n",
    "    # N == number of function evalutions to use\n",
    "    \n",
    "    #define x values to perform trapezoid rule\n",
    "    x = np.linspace(a, b, N)\n",
    "    h = x[1] - x[0]\n",
    "    \n",
    "    #define the value of the ingtegral\n",
    "    Fint = 0.0\n",
    "    \n",
    "    #perform the integral using the trapezoid method\n",
    "    for i in range(0, len(x) - 1, 1):\n",
    "        Fint += trapezoid_core(f, x[i], h)\n",
    "        \n",
    "    #return the answer\n",
    "    return Fint\n"
   ]
  },
  {
   "cell_type": "markdown",
   "metadata": {},
   "source": [
    "# Simpson's Method"
   ]
  },
  {
   "cell_type": "code",
   "execution_count": null,
   "metadata": {},
   "outputs": [],
   "source": [
    "#define the core of the Simpson's method\n",
    "def simpsons_core(f, x, h):\n",
    "    return h * (f(x) + 4*f(x + h) + f(x + 2*h))/3.\n",
    "\n",
    "#define a wrapper function to perform Simpson's Method\n",
    "def simpsons_method(f, a, b, N):\n",
    "    # f == function to integrate\n",
    "    # a == lower limit of integration\n",
    "    # b == upper limit of integration\n",
    "    # N == number of function evalutions to use\n",
    "    # Note: the number of chunks will be N - 1, so if N is odd don't adjust\n",
    "    \n",
    "    #define x values to perform trapezoid rule\n",
    "    x = np.linspace(a, b, N)\n",
    "    h = x[1] - x[0]\n",
    "    \n",
    "    #define the value of the ingtegral\n",
    "    Fint = 0.0\n",
    "    \n",
    "    #if N is odd or even, we have different numbers of chunks to add\n",
    "    if((N % 2) == 0):\n",
    "        lim = 3\n",
    "    else:\n",
    "        lim = 2\n",
    "    \n",
    "    #perform the integral using the trapezoid method\n",
    "    for i in range(0, len(x) - 2, 2):\n",
    "        Fint += simpsons_core(f, x[i], h)\n",
    "        #print(i, i + 2, x[i] + h, x[i] + 2*h, x[-2], x[-1])\n",
    "\n",
    "    #apply simpson's rule over the last interval when N is even\n",
    "    if (N % 2 == 0):\n",
    "        Fint += simpsons_core(f, x[-2], 0.5*h)\n",
    "        \n",
    "    #return the answer\n",
    "    return Fint"
   ]
  },
  {
   "cell_type": "markdown",
   "metadata": {},
   "source": [
    "# Romberg Integration"
   ]
  },
  {
   "cell_type": "code",
   "execution_count": null,
   "metadata": {},
   "outputs": [],
   "source": [
    "#define the Romberg integration core\n",
    "def romberg_core(f, a, b, i):\n",
    "    #we need the difference b-a\n",
    "    h = b - a\n",
    "    \n",
    "    #and the incremement between the new function evalutations\n",
    "    dh = h/2.**(i)\n",
    "    \n",
    "    #we need the cofactor\n",
    "    K = h/2.**(i + 1)\n",
    "    \n",
    "    #and the function evaluations\n",
    "    M = 0.0\n",
    "    for j in range(2**i):\n",
    "        M += f(a + 0.5*dh + j*dh)\n",
    "    \n",
    "    #return the answer\n",
    "    return K*M\n",
    "\n",
    "#define a wrapper function to perform Romberg Integration\n",
    "def romberg_integration(f, a, b, tol):\n",
    "    #define an iteration variable \n",
    "    i = 0\n",
    "    \n",
    "    #define a maximum number of iterations\n",
    "    imax = 1000\n",
    "    \n",
    "    #define an error estimate, and set to a large value\n",
    "    delta = 100.0 * np.fabs(tol)\n",
    "    \n",
    "    #set an array of interal answers\n",
    "    I = np.zeros(imax, dtype = float)\n",
    "    \n",
    "    #get the zeroth romberg iteration\n",
    "    I[0] = 0.5 * (b - a) * (f(a) + f(b))\n",
    "    \n",
    "    #iterate by 1\n",
    "    i += 1\n",
    "    \n",
    "    while(delta > tol):\n",
    "        #find this romberg iteration\n",
    "        I[i] = 0.5*I[i - 1] + romberg_core(f, a, b, i)\n",
    "        \n",
    "        #compute the new functional error estimate\n",
    "        delta = np.fabs( (I[i] - I[i - 1])/I[i])\n",
    "        \n",
    "        print(i, I[i], I[i - 1], delta)\n",
    "        \n",
    "        if(delta > tol):\n",
    "            #iterate\n",
    "            i += 1\n",
    "            \n",
    "            #if we reach the maximum iterations...\n",
    "            if(i > imax):\n",
    "                print(\"Max iterations reached.\")\n",
    "                raise StopIteration('Stopping iterations after ', i)\n",
    "                \n",
    "    #return the answer\n",
    "    return I[i]"
   ]
  },
  {
   "cell_type": "markdown",
   "metadata": {},
   "source": [
    "# Integral Check"
   ]
  },
  {
   "cell_type": "code",
   "execution_count": null,
   "metadata": {},
   "outputs": [],
   "source": [
    "Answer = func_integral(1) - func_integral(0)\n",
    "print(Answer)\n",
    "\n",
    "N = 10\n",
    "tolerance = 1.0e-4 #larger tolerance for trapezoid method because it is too slow\n",
    "#I will use a while loop to find the best possible N to find the asnwer\n",
    "print(\"Trapezoid Method\")\n",
    "trap_answ = trapezoid_method(func, 0 , 1, N)\n",
    "\n",
    "while np.abs(trap_answ - Answer)/Answer > tolerance:\n",
    "    trap_answ = trapezoid_method(func, 0 , 1, N)\n",
    "    #print(trapezoid_method(func, 0 , 1, N))\n",
    "    N+=1\n",
    "print(trap_answ, \", Intervals: \" + str(N), \", Tolerance: \" + str(tolerance))\n",
    "\n",
    "N = 10\n",
    "tolerance = 1.0e-6\n",
    "#I will use a while loop to find the best possible N to find the asnwer\n",
    "print(\"Simpson's Method\")\n",
    "simp_answ = simpsons_method(func, 0 , 1, N)\n",
    "while np.abs(simp_answ - Answer)/Answer > tolerance:\n",
    "    simp_answ = simpsons_method(func, 0 , 1, N)\n",
    "    N += 1\n",
    "print(simp_answ, \", Intervals: \" + str(N), \", Tolerance: \" + str(tolerance))\n",
    "\n",
    "print(\"Romberg Integration\")\n",
    "tolerance = 1.0e-6\n",
    "RI = romberg_integration(func, 0 , 1, tolerance)\n",
    "print(RI, \", Error: \" + str(np.abs(RI - Answer)/Answer), \", Tolerance: \" + str(tolerance))"
   ]
  },
  {
   "cell_type": "code",
   "execution_count": null,
   "metadata": {},
   "outputs": [],
   "source": []
  }
 ],
 "metadata": {
  "kernelspec": {
   "display_name": "Python 3",
   "language": "python",
   "name": "python3"
  },
  "language_info": {
   "codemirror_mode": {
    "name": "ipython",
    "version": 3
   },
   "file_extension": ".py",
   "mimetype": "text/x-python",
   "name": "python",
   "nbconvert_exporter": "python",
   "pygments_lexer": "ipython3",
   "version": "3.6.4"
  }
 },
 "nbformat": 4,
 "nbformat_minor": 2
}
